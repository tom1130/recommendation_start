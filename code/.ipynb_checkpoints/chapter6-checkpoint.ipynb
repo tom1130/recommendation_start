{
 "cells": [
  {
   "cell_type": "markdown",
   "metadata": {},
   "source": [
    "# 6. 딥러닝을 사용한 추천 시스템"
   ]
  },
  {
   "cell_type": "markdown",
   "metadata": {},
   "source": [
    "## 6.1 Matrix Factorization을 신경망으로 변환하기\n",
    " - Input Layer : one-hot Representation 사용\n",
    " - Embedding Layer : 사용자 MxK개로 연결, 아이템 NxK개로 연결\n",
    " - dot product : embedding layer(사용자, 아이템)의 element-wise 곱\n",
    " - user bias embedding \n",
    " - item bias embedding"
   ]
  },
  {
   "cell_type": "markdown",
   "metadata": {},
   "source": [
    "## 6.2 Keras로 MF 구현하기"
   ]
  },
  {
   "cell_type": "code",
   "execution_count": 1,
   "metadata": {},
   "outputs": [],
   "source": [
    "%config Completer.use_jedi = False"
   ]
  },
  {
   "cell_type": "code",
   "execution_count": 6,
   "metadata": {},
   "outputs": [],
   "source": [
    "import tensorflow as tf\n",
    "from tensorflow.keras import layers\n",
    "from tensorflow.keras.models import Model\n",
    "from tensorflow.keras.layers import Input, Embedding, Dot, Add, Flatten\n",
    "from tensorflow.keras.regularizers import l2\n",
    "from tensorflow.keras.optimizers import SGD, Adamax\n",
    "from tensorflow.keras.layers import Dense, Concatenate, Activation\n",
    "\n",
    "from sklearn.model_selection import train_test_split\n",
    "from sklearn.utils import shuffle\n",
    "\n",
    "from utility import *\n",
    "import utility\n",
    "import matplotlib.pyplot as plt"
   ]
  },
  {
   "cell_type": "code",
   "execution_count": 3,
   "metadata": {},
   "outputs": [],
   "source": [
    "# data 불러오기 및 train_test_split 진행\n",
    "_, _, ratings = getData()\n",
    "\n",
    "ratings.reset_index(inplace=True)\n",
    "ratings.drop('timestamp',axis=1, inplace=True)\n",
    "\n",
    "ratings = ratings[['user_id','movie_id','rating']].astype(int)\n",
    "TRAIN_SIZE = 0.75\n",
    "ratings = shuffle(ratings)\n",
    "cutoff = int(TRAIN_SIZE*len(ratings))\n",
    "ratings_train = ratings.iloc[:cutoff]\n",
    "ratings_test = ratings.iloc[cutoff:]"
   ]
  },
  {
   "cell_type": "code",
   "execution_count": 4,
   "metadata": {},
   "outputs": [],
   "source": [
    "# variable 선택\n",
    "K = 200\n",
    "mu = ratings_train.rating.mean()\n",
    "M = ratings.user_id.max()+1\n",
    "N = ratings.movie_id.max()+1"
   ]
  },
  {
   "cell_type": "code",
   "execution_count": 10,
   "metadata": {},
   "outputs": [],
   "source": [
    "# RMSE 측정치 계산\n",
    "def RMSE_tf(y_true, y_pred):\n",
    "    return tf.sqrt(tf.reduce_mean(tf.square(y_true-y_pred)))"
   ]
  },
  {
   "cell_type": "code",
   "execution_count": 12,
   "metadata": {},
   "outputs": [
    {
     "name": "stdout",
     "output_type": "stream",
     "text": [
      "Model: \"functional_1\"\n",
      "__________________________________________________________________________________________________\n",
      "Layer (type)                    Output Shape         Param #     Connected to                     \n",
      "==================================================================================================\n",
      "input_5 (InputLayer)            [(None, 1)]          0                                            \n",
      "__________________________________________________________________________________________________\n",
      "input_6 (InputLayer)            [(None, 1)]          0                                            \n",
      "__________________________________________________________________________________________________\n",
      "embedding_8 (Embedding)         (None, 1, 200)       188800      input_5[0][0]                    \n",
      "__________________________________________________________________________________________________\n",
      "embedding_9 (Embedding)         (None, 1, 200)       336600      input_6[0][0]                    \n",
      "__________________________________________________________________________________________________\n",
      "dot_2 (Dot)                     (None, 1, 1)         0           embedding_8[0][0]                \n",
      "                                                                 embedding_9[0][0]                \n",
      "__________________________________________________________________________________________________\n",
      "embedding_10 (Embedding)        (None, 1, 1)         944         input_5[0][0]                    \n",
      "__________________________________________________________________________________________________\n",
      "embedding_11 (Embedding)        (None, 1, 1)         1683        input_6[0][0]                    \n",
      "__________________________________________________________________________________________________\n",
      "add_1 (Add)                     (None, 1, 1)         0           dot_2[0][0]                      \n",
      "                                                                 embedding_10[0][0]               \n",
      "                                                                 embedding_11[0][0]               \n",
      "__________________________________________________________________________________________________\n",
      "flatten (Flatten)               (None, 1)            0           add_1[0][0]                      \n",
      "==================================================================================================\n",
      "Total params: 528,027\n",
      "Trainable params: 528,027\n",
      "Non-trainable params: 0\n",
      "__________________________________________________________________________________________________\n"
     ]
    }
   ],
   "source": [
    "# Keras Model\n",
    "user = Input(shape=(1,))\n",
    "item = Input(shape=(1,))\n",
    "\n",
    "P_embedding = Embedding(M, K, embeddings_regularizer=l2())(user)\n",
    "Q_embedding = Embedding(N, K, embeddings_regularizer=l2())(item)\n",
    "\n",
    "user_bias = Embedding(M, 1, embeddings_regularizer=l2())(user)\n",
    "item_bias = Embedding(N, 1, embeddings_regularizer=l2())(item)\n",
    "\n",
    "R = layers.dot([P_embedding, Q_embedding], axes=2) # \n",
    "R = layers.add([R, user_bias, item_bias])\n",
    "R = Flatten()(R)\n",
    "\n",
    "# model setting\n",
    "model = Model(inputs=[user, item], outputs=R)\n",
    "model.compile(loss=RMSE,\n",
    "              optimizer = SGD(),\n",
    "              metrics = [RMSE]\n",
    "             )\n",
    "model.summary()"
   ]
  },
  {
   "cell_type": "code",
   "execution_count": 14,
   "metadata": {
    "collapsed": true,
    "jupyter": {
     "outputs_hidden": true
    }
   },
   "outputs": [
    {
     "name": "stdout",
     "output_type": "stream",
     "text": [
      "Epoch 1/60\n"
     ]
    },
    {
     "name": "stderr",
     "output_type": "stream",
     "text": [
      "C:\\Users\\GIHO\\Anaconda3\\envs\\tf2\\lib\\site-packages\\tensorflow\\python\\framework\\indexed_slices.py:431: UserWarning: Converting sparse IndexedSlices to a dense Tensor of unknown shape. This may consume a large amount of memory.\n",
      "  warnings.warn(\n"
     ]
    },
    {
     "name": "stdout",
     "output_type": "stream",
     "text": [
      "293/293 [==============================] - 1s 4ms/step - loss: 5.2719 - RMSE: 1.1247 - val_loss: 5.0327 - val_RMSE: 1.1245\n",
      "Epoch 2/60\n",
      "293/293 [==============================] - 1s 3ms/step - loss: 4.8112 - RMSE: 1.1228 - val_loss: 4.5986 - val_RMSE: 1.1226\n",
      "Epoch 3/60\n",
      "293/293 [==============================] - 1s 3ms/step - loss: 4.4015 - RMSE: 1.1208 - val_loss: 4.2126 - val_RMSE: 1.1209\n",
      "Epoch 4/60\n",
      "293/293 [==============================] - 1s 3ms/step - loss: 4.0371 - RMSE: 1.1190 - val_loss: 3.8694 - val_RMSE: 1.1193\n",
      "Epoch 5/60\n",
      "293/293 [==============================] - 1s 3ms/step - loss: 3.7131 - RMSE: 1.1175 - val_loss: 3.5641 - val_RMSE: 1.1178\n",
      "Epoch 6/60\n",
      "293/293 [==============================] - 1s 3ms/step - loss: 3.4247 - RMSE: 1.1158 - val_loss: 3.2926 - val_RMSE: 1.1164\n",
      "Epoch 7/60\n",
      "293/293 [==============================] - 1s 3ms/step - loss: 3.1685 - RMSE: 1.1144 - val_loss: 3.0512 - val_RMSE: 1.1151\n",
      "Epoch 8/60\n",
      "293/293 [==============================] - 1s 3ms/step - loss: 2.9407 - RMSE: 1.1132 - val_loss: 2.8365 - val_RMSE: 1.1139\n",
      "Epoch 9/60\n",
      "293/293 [==============================] - 1s 3ms/step - loss: 2.7379 - RMSE: 1.1120 - val_loss: 2.6455 - val_RMSE: 1.1128\n",
      "Epoch 10/60\n",
      "293/293 [==============================] - 1s 3ms/step - loss: 2.5576 - RMSE: 1.1108 - val_loss: 2.4757 - val_RMSE: 1.1118\n",
      "Epoch 11/60\n",
      "293/293 [==============================] - 1s 3ms/step - loss: 2.3973 - RMSE: 1.1098 - val_loss: 2.3247 - val_RMSE: 1.1108\n",
      "Epoch 12/60\n",
      "293/293 [==============================] - 1s 3ms/step - loss: 2.2547 - RMSE: 1.1087 - val_loss: 2.1904 - val_RMSE: 1.1099\n",
      "Epoch 13/60\n",
      "293/293 [==============================] - 1s 3ms/step - loss: 2.1280 - RMSE: 1.1079 - val_loss: 2.0710 - val_RMSE: 1.1091\n",
      "Epoch 14/60\n",
      "293/293 [==============================] - 1s 3ms/step - loss: 2.0153 - RMSE: 1.1071 - val_loss: 1.9648 - val_RMSE: 1.1083\n",
      "Epoch 15/60\n",
      "293/293 [==============================] - 1s 3ms/step - loss: 1.9150 - RMSE: 1.1063 - val_loss: 1.8703 - val_RMSE: 1.1076\n",
      "Epoch 16/60\n",
      "293/293 [==============================] - 1s 3ms/step - loss: 1.8259 - RMSE: 1.1057 - val_loss: 1.7863 - val_RMSE: 1.1069\n",
      "Epoch 17/60\n",
      "293/293 [==============================] - 1s 3ms/step - loss: 1.7466 - RMSE: 1.1050 - val_loss: 1.7116 - val_RMSE: 1.1063\n",
      "Epoch 18/60\n",
      "293/293 [==============================] - 1s 3ms/step - loss: 1.6759 - RMSE: 1.1042 - val_loss: 1.6452 - val_RMSE: 1.1057\n",
      "Epoch 19/60\n",
      "293/293 [==============================] - 1s 3ms/step - loss: 1.6133 - RMSE: 1.1037 - val_loss: 1.5861 - val_RMSE: 1.1052\n",
      "Epoch 20/60\n",
      "293/293 [==============================] - 1s 3ms/step - loss: 1.5573 - RMSE: 1.1030 - val_loss: 1.5335 - val_RMSE: 1.1047\n",
      "Epoch 21/60\n",
      "293/293 [==============================] - 1s 3ms/step - loss: 1.5078 - RMSE: 1.1026 - val_loss: 1.4868 - val_RMSE: 1.1042\n",
      "Epoch 22/60\n",
      "293/293 [==============================] - 1s 3ms/step - loss: 1.4638 - RMSE: 1.1022 - val_loss: 1.4453 - val_RMSE: 1.1038\n",
      "Epoch 23/60\n",
      "293/293 [==============================] - 1s 3ms/step - loss: 1.4246 - RMSE: 1.1018 - val_loss: 1.4083 - val_RMSE: 1.1034\n",
      "Epoch 24/60\n",
      "293/293 [==============================] - 1s 3ms/step - loss: 1.3896 - RMSE: 1.1013 - val_loss: 1.3754 - val_RMSE: 1.1030\n",
      "Epoch 25/60\n",
      "293/293 [==============================] - 1s 3ms/step - loss: 1.3585 - RMSE: 1.1009 - val_loss: 1.3462 - val_RMSE: 1.1026\n",
      "Epoch 26/60\n",
      "293/293 [==============================] - 1s 3ms/step - loss: 1.3309 - RMSE: 1.1005 - val_loss: 1.3202 - val_RMSE: 1.1023\n",
      "Epoch 27/60\n",
      "293/293 [==============================] - 1s 3ms/step - loss: 1.3064 - RMSE: 1.1001 - val_loss: 1.2971 - val_RMSE: 1.1020\n",
      "Epoch 28/60\n",
      "293/293 [==============================] - 1s 3ms/step - loss: 1.2844 - RMSE: 1.0997 - val_loss: 1.2766 - val_RMSE: 1.1017\n",
      "Epoch 29/60\n",
      "293/293 [==============================] - 1s 3ms/step - loss: 1.2650 - RMSE: 1.0994 - val_loss: 1.2583 - val_RMSE: 1.1014\n",
      "Epoch 30/60\n",
      "293/293 [==============================] - 1s 3ms/step - loss: 1.2479 - RMSE: 1.0993 - val_loss: 1.2420 - val_RMSE: 1.1011\n",
      "Epoch 31/60\n",
      "293/293 [==============================] - 1s 3ms/step - loss: 1.2325 - RMSE: 1.0989 - val_loss: 1.2276 - val_RMSE: 1.1009\n",
      "Epoch 32/60\n",
      "293/293 [==============================] - 1s 3ms/step - loss: 1.2189 - RMSE: 1.0988 - val_loss: 1.2147 - val_RMSE: 1.1007\n",
      "Epoch 33/60\n",
      "293/293 [==============================] - 1s 3ms/step - loss: 1.2067 - RMSE: 1.0986 - val_loss: 1.2033 - val_RMSE: 1.1005\n",
      "Epoch 34/60\n",
      "293/293 [==============================] - 1s 3ms/step - loss: 1.1960 - RMSE: 1.0984 - val_loss: 1.1931 - val_RMSE: 1.1003\n",
      "Epoch 35/60\n",
      "293/293 [==============================] - 1s 3ms/step - loss: 1.1862 - RMSE: 1.0980 - val_loss: 1.1840 - val_RMSE: 1.1001\n",
      "Epoch 36/60\n",
      "293/293 [==============================] - 1s 3ms/step - loss: 1.1778 - RMSE: 1.0980 - val_loss: 1.1760 - val_RMSE: 1.0999\n",
      "Epoch 37/60\n",
      "293/293 [==============================] - 1s 3ms/step - loss: 1.1701 - RMSE: 1.0977 - val_loss: 1.1689 - val_RMSE: 1.0998\n",
      "Epoch 38/60\n",
      "293/293 [==============================] - 1s 3ms/step - loss: 1.1635 - RMSE: 1.0977 - val_loss: 1.1625 - val_RMSE: 1.0996\n",
      "Epoch 39/60\n",
      "293/293 [==============================] - 1s 3ms/step - loss: 1.1574 - RMSE: 1.0975 - val_loss: 1.1568 - val_RMSE: 1.0995\n",
      "Epoch 40/60\n",
      "293/293 [==============================] - 1s 3ms/step - loss: 1.1520 - RMSE: 1.0972 - val_loss: 1.1518 - val_RMSE: 1.0993\n",
      "Epoch 41/60\n",
      "293/293 [==============================] - 1s 3ms/step - loss: 1.1473 - RMSE: 1.0972 - val_loss: 1.1473 - val_RMSE: 1.0992\n",
      "Epoch 42/60\n",
      "293/293 [==============================] - 1s 3ms/step - loss: 1.1429 - RMSE: 1.0969 - val_loss: 1.1434 - val_RMSE: 1.0991\n",
      "Epoch 43/60\n",
      "293/293 [==============================] - 1s 3ms/step - loss: 1.1392 - RMSE: 1.0968 - val_loss: 1.1398 - val_RMSE: 1.0990\n",
      "Epoch 44/60\n",
      "293/293 [==============================] - 1s 3ms/step - loss: 1.1360 - RMSE: 1.0968 - val_loss: 1.1367 - val_RMSE: 1.0989\n",
      "Epoch 45/60\n",
      "293/293 [==============================] - 1s 3ms/step - loss: 1.1328 - RMSE: 1.0966 - val_loss: 1.1339 - val_RMSE: 1.0988\n",
      "Epoch 46/60\n",
      "293/293 [==============================] - 1s 3ms/step - loss: 1.1304 - RMSE: 1.0966 - val_loss: 1.1314 - val_RMSE: 1.0987\n",
      "Epoch 47/60\n",
      "293/293 [==============================] - 1s 3ms/step - loss: 1.1278 - RMSE: 1.0964 - val_loss: 1.1292 - val_RMSE: 1.0986\n",
      "Epoch 48/60\n",
      "293/293 [==============================] - 1s 3ms/step - loss: 1.1258 - RMSE: 1.0964 - val_loss: 1.1272 - val_RMSE: 1.0986\n",
      "Epoch 49/60\n",
      "293/293 [==============================] - 1s 3ms/step - loss: 1.1241 - RMSE: 1.0964 - val_loss: 1.1255 - val_RMSE: 1.0985\n",
      "Epoch 50/60\n",
      "293/293 [==============================] - 1s 3ms/step - loss: 1.1224 - RMSE: 1.0963 - val_loss: 1.1239 - val_RMSE: 1.0984\n",
      "Epoch 51/60\n",
      "293/293 [==============================] - 1s 3ms/step - loss: 1.1208 - RMSE: 1.0961 - val_loss: 1.1225 - val_RMSE: 1.0984\n",
      "Epoch 52/60\n",
      "293/293 [==============================] - 1s 3ms/step - loss: 1.1196 - RMSE: 1.0961 - val_loss: 1.1213 - val_RMSE: 1.0983\n",
      "Epoch 53/60\n",
      "293/293 [==============================] - 1s 3ms/step - loss: 1.1184 - RMSE: 1.0961 - val_loss: 1.1202 - val_RMSE: 1.0982\n",
      "Epoch 54/60\n",
      "293/293 [==============================] - 1s 3ms/step - loss: 1.1173 - RMSE: 1.0960 - val_loss: 1.1192 - val_RMSE: 1.0982\n",
      "Epoch 55/60\n",
      "293/293 [==============================] - 1s 3ms/step - loss: 1.1164 - RMSE: 1.0959 - val_loss: 1.1184 - val_RMSE: 1.0981\n",
      "Epoch 56/60\n",
      "293/293 [==============================] - 1s 3ms/step - loss: 1.1156 - RMSE: 1.0958 - val_loss: 1.1176 - val_RMSE: 1.0981\n",
      "Epoch 57/60\n",
      "293/293 [==============================] - 1s 3ms/step - loss: 1.1149 - RMSE: 1.0959 - val_loss: 1.1169 - val_RMSE: 1.0980\n",
      "Epoch 58/60\n",
      "293/293 [==============================] - 1s 3ms/step - loss: 1.1142 - RMSE: 1.0958 - val_loss: 1.1163 - val_RMSE: 1.0980\n",
      "Epoch 59/60\n",
      "293/293 [==============================] - 1s 3ms/step - loss: 1.1136 - RMSE: 1.0957 - val_loss: 1.1158 - val_RMSE: 1.0980\n",
      "Epoch 60/60\n",
      "293/293 [==============================] - 1s 3ms/step - loss: 1.1131 - RMSE: 1.0956 - val_loss: 1.1153 - val_RMSE: 1.0979\n"
     ]
    }
   ],
   "source": [
    "# model fitting \n",
    "result = model.fit(\n",
    "    x = [ratings_train.user_id.values, ratings_train.movie_id.values],\n",
    "    y = ratings_train.rating.values -mu,\n",
    "    epochs = 60,\n",
    "    batch_size = 256,\n",
    "    validation_data = (\n",
    "    [ratings_test.user_id.values, ratings_test.movie_id.values],\n",
    "    ratings_test.rating.values- mu)\n",
    ")"
   ]
  },
  {
   "cell_type": "code",
   "execution_count": 16,
   "metadata": {},
   "outputs": [
    {
     "data": {
      "image/png": "[encoded data removed]",
      "text/plain": [
       "<Figure size 432x288 with 1 Axes>"
      ]
     },
     "metadata": {
      "needs_background": "light"
     },
     "output_type": "display_data"
    }
   ],
   "source": [
    "# plot rmse\n",
    "plt.plot(result.history['RMSE'], label = 'Train RMSE')\n",
    "plt.plot(result.history['val_RMSE'], label = 'Test RMSE')\n",
    "plt.legend()\n",
    "plt.show()"
   ]
  },
  {
   "cell_type": "code",
   "execution_count": 17,
   "metadata": {},
   "outputs": [
    {
     "name": "stdout",
     "output_type": "stream",
     "text": [
      "       user_id  movie_id  rating\n",
      "12336      378       304       4\n",
      "84646      933       357       4\n",
      "22077      293       416       4\n",
      "16186      378        48       5\n",
      "96047      551       790       2\n",
      "97848        7       198       3\n",
      "[[3.5275543]\n",
      " [3.544367 ]\n",
      " [3.4588063]\n",
      " [3.5528283]\n",
      " [3.5587916]\n",
      " [3.6152854]]\n"
     ]
    }
   ],
   "source": [
    "# predictions\n",
    "user_ids = ratings_test.user_id.values[0:6]\n",
    "item_ids = ratings_test.movie_id.values[0:6]\n",
    "predictions = model.predict([user_ids,item_ids])+mu\n",
    "print(ratings_test[0:6])\n",
    "print(predictions)"
   ]
  },
  {
   "cell_type": "code",
   "execution_count": 19,
   "metadata": {},
   "outputs": [
    {
     "data": {
      "text/plain": [
       "0.9683672130812353"
      ]
     },
     "execution_count": 19,
     "metadata": {},
     "output_type": "execute_result"
    }
   ],
   "source": [
    "# RMSE check -> 학습이 끝난 모델의 RMSE 확인\n",
    "y_pred = model.predict([user_ids, item_ids])+ mu\n",
    "y_pred = np.ravel(y_pred, order='C')\n",
    "y_true = ratings_test.rating.values[0:6]\n",
    "utility.RMSE(y_true,y_pred)"
   ]
  },
  {
   "cell_type": "markdown",
   "metadata": {},
   "source": [
    "## 6.3 딥러닝을 활용한 추천 시스템\n",
    " - 기존 MF에서 neural layer(hidden layer) 추가\n",
    " - 데이터가 풍부하고, 연속값으로 평가하는 경우 -> MF도 잘 작동\n",
    " - 데이터가 sparse 혹은 binary인 경우에 MF가 잘 작동하지 않으므로 딥러닝이 큰 역할을 할 것"
   ]
  },
  {
   "cell_type": "code",
   "execution_count": 11,
   "metadata": {},
   "outputs": [
    {
     "name": "stdout",
     "output_type": "stream",
     "text": [
      "Model: \"functional_3\"\n",
      "__________________________________________________________________________________________________\n",
      "Layer (type)                    Output Shape         Param #     Connected to                     \n",
      "==================================================================================================\n",
      "input_3 (InputLayer)            [(None, 1)]          0                                            \n",
      "__________________________________________________________________________________________________\n",
      "input_4 (InputLayer)            [(None, 1)]          0                                            \n",
      "__________________________________________________________________________________________________\n",
      "embedding_4 (Embedding)         (None, 1, 200)       188800      input_3[0][0]                    \n",
      "__________________________________________________________________________________________________\n",
      "embedding_5 (Embedding)         (None, 1, 200)       336600      input_4[0][0]                    \n",
      "__________________________________________________________________________________________________\n",
      "embedding_6 (Embedding)         (None, 1, 1)         944         input_3[0][0]                    \n",
      "__________________________________________________________________________________________________\n",
      "embedding_7 (Embedding)         (None, 1, 1)         1683        input_4[0][0]                    \n",
      "__________________________________________________________________________________________________\n",
      "flatten_4 (Flatten)             (None, 200)          0           embedding_4[0][0]                \n",
      "__________________________________________________________________________________________________\n",
      "flatten_5 (Flatten)             (None, 200)          0           embedding_5[0][0]                \n",
      "__________________________________________________________________________________________________\n",
      "flatten_6 (Flatten)             (None, 1)            0           embedding_6[0][0]                \n",
      "__________________________________________________________________________________________________\n",
      "flatten_7 (Flatten)             (None, 1)            0           embedding_7[0][0]                \n",
      "__________________________________________________________________________________________________\n",
      "concatenate_1 (Concatenate)     (None, 402)          0           flatten_4[0][0]                  \n",
      "                                                                 flatten_5[0][0]                  \n",
      "                                                                 flatten_6[0][0]                  \n",
      "                                                                 flatten_7[0][0]                  \n",
      "__________________________________________________________________________________________________\n",
      "dense_3 (Dense)                 (None, 2048)         825344      concatenate_1[0][0]              \n",
      "__________________________________________________________________________________________________\n",
      "activation_2 (Activation)       (None, 2048)         0           dense_3[0][0]                    \n",
      "__________________________________________________________________________________________________\n",
      "dense_4 (Dense)                 (None, 256)          524544      activation_2[0][0]               \n",
      "__________________________________________________________________________________________________\n",
      "activation_3 (Activation)       (None, 256)          0           dense_4[0][0]                    \n",
      "__________________________________________________________________________________________________\n",
      "dense_5 (Dense)                 (None, 1)            257         activation_3[0][0]               \n",
      "==================================================================================================\n",
      "Total params: 1,878,172\n",
      "Trainable params: 1,878,172\n",
      "Non-trainable params: 0\n",
      "__________________________________________________________________________________________________\n"
     ]
    }
   ],
   "source": [
    "# Keras Model\n",
    "user = Input(shape=(1,))\n",
    "item = Input(shape=(1,))\n",
    "\n",
    "P_embedding = Embedding(M, K, embeddings_regularizer=l2())(user)\n",
    "Q_embedding = Embedding(N, K, embeddings_regularizer=l2())(item)\n",
    "\n",
    "user_bias = Embedding(M, 1, embeddings_regularizer=l2())(user)\n",
    "item_bias = Embedding(N, 1, embeddings_regularizer=l2())(item)\n",
    "\n",
    "\n",
    "# hidden layer 추가\n",
    "P_embedding = Flatten()(P_embedding)\n",
    "Q_embedding = Flatten()(Q_embedding)\n",
    "\n",
    "user_bias = Flatten()(user_bias)\n",
    "item_bias = Flatten()(item_bias)\n",
    "\n",
    "R = Concatenate()([P_embedding, Q_embedding, user_bias, item_bias])\n",
    "\n",
    "R = Dense(2048)(R)\n",
    "R = Activation('linear')(R)\n",
    "R = Dense(256)(R)\n",
    "R = Activation('linear')(R)\n",
    "R = Dense(1)(R)\n",
    "\n",
    "# model setting\n",
    "model = Model(inputs=[user, item], outputs=R)\n",
    "model.compile(loss=RMSE_tf,\n",
    "              optimizer = SGD(),\n",
    "              metrics = [RMSE_tf]\n",
    "             )\n",
    "model.summary()"
   ]
  },
  {
   "cell_type": "code",
   "execution_count": 12,
   "metadata": {
    "collapsed": true,
    "jupyter": {
     "outputs_hidden": true
    }
   },
   "outputs": [
    {
     "name": "stdout",
     "output_type": "stream",
     "text": [
      "Epoch 1/60\n"
     ]
    },
    {
     "name": "stderr",
     "output_type": "stream",
     "text": [
      "C:\\Users\\GIHO\\Anaconda3\\envs\\tf2\\lib\\site-packages\\tensorflow\\python\\framework\\indexed_slices.py:431: UserWarning: Converting sparse IndexedSlices to a dense Tensor of unknown shape. This may consume a large amount of memory.\n",
      "  warnings.warn(\n"
     ]
    },
    {
     "name": "stdout",
     "output_type": "stream",
     "text": [
      "293/293 [==============================] - 5s 16ms/step - loss: 5.2809 - RMSE_tf: 1.1242 - val_loss: 5.0399 - val_RMSE_tf: 1.1227\n",
      "Epoch 2/60\n",
      "293/293 [==============================] - 5s 16ms/step - loss: 4.8181 - RMSE_tf: 1.1209 - val_loss: 4.6040 - val_RMSE_tf: 1.1199\n",
      "Epoch 3/60\n",
      "293/293 [==============================] - 5s 16ms/step - loss: 4.4066 - RMSE_tf: 1.1181 - val_loss: 4.2160 - val_RMSE_tf: 1.1169\n",
      "Epoch 4/60\n",
      "293/293 [==============================] - 5s 16ms/step - loss: 4.0399 - RMSE_tf: 1.1147 - val_loss: 3.8702 - val_RMSE_tf: 1.1134\n",
      "Epoch 5/60\n",
      "293/293 [==============================] - 5s 16ms/step - loss: 3.7132 - RMSE_tf: 1.1109 - val_loss: 3.5620 - val_RMSE_tf: 1.1093\n",
      "Epoch 6/60\n",
      "293/293 [==============================] - 5s 16ms/step - loss: 3.4211 - RMSE_tf: 1.1057 - val_loss: 3.2862 - val_RMSE_tf: 1.1039\n",
      "Epoch 7/60\n",
      "293/293 [==============================] - 5s 16ms/step - loss: 3.1599 - RMSE_tf: 1.0995 - val_loss: 3.0388 - val_RMSE_tf: 1.0965\n",
      "Epoch 8/60\n",
      "293/293 [==============================] - 5s 16ms/step - loss: 2.9250 - RMSE_tf: 1.0910 - val_loss: 2.8162 - val_RMSE_tf: 1.0870\n",
      "Epoch 9/60\n",
      "293/293 [==============================] - 5s 16ms/step - loss: 2.7127 - RMSE_tf: 1.0797 - val_loss: 2.6149 - val_RMSE_tf: 1.0749\n",
      "Epoch 10/60\n",
      "293/293 [==============================] - 5s 16ms/step - loss: 2.5202 - RMSE_tf: 1.0654 - val_loss: 2.4318 - val_RMSE_tf: 1.0595\n",
      "Epoch 11/60\n",
      "293/293 [==============================] - 5s 16ms/step - loss: 2.3451 - RMSE_tf: 1.0484 - val_loss: 2.2656 - val_RMSE_tf: 1.0420\n",
      "Epoch 12/60\n",
      "293/293 [==============================] - 5s 16ms/step - loss: 2.1865 - RMSE_tf: 1.0299 - val_loss: 2.1157 - val_RMSE_tf: 1.0240\n",
      "Epoch 13/60\n",
      "293/293 [==============================] - 5s 16ms/step - loss: 2.0436 - RMSE_tf: 1.0115 - val_loss: 1.9815 - val_RMSE_tf: 1.0071\n",
      "Epoch 14/60\n",
      "293/293 [==============================] - 5s 16ms/step - loss: 1.9159 - RMSE_tf: 0.9946 - val_loss: 1.8632 - val_RMSE_tf: 0.9933\n",
      "Epoch 15/60\n",
      "293/293 [==============================] - 5s 16ms/step - loss: 1.8033 - RMSE_tf: 0.9807 - val_loss: 1.7581 - val_RMSE_tf: 0.9813\n",
      "Epoch 16/60\n",
      "293/293 [==============================] - 5s 16ms/step - loss: 1.7037 - RMSE_tf: 0.9691 - val_loss: 1.6664 - val_RMSE_tf: 0.9727\n",
      "Epoch 17/60\n",
      "293/293 [==============================] - 5s 16ms/step - loss: 1.6159 - RMSE_tf: 0.9599 - val_loss: 1.5846 - val_RMSE_tf: 0.9651\n",
      "Epoch 18/60\n",
      "293/293 [==============================] - 5s 16ms/step - loss: 1.5385 - RMSE_tf: 0.9525 - val_loss: 1.5126 - val_RMSE_tf: 0.9592\n",
      "Epoch 19/60\n",
      "293/293 [==============================] - 5s 16ms/step - loss: 1.4701 - RMSE_tf: 0.9466 - val_loss: 1.4490 - val_RMSE_tf: 0.9544\n",
      "Epoch 20/60\n",
      "293/293 [==============================] - 5s 16ms/step - loss: 1.4102 - RMSE_tf: 0.9422 - val_loss: 1.3932 - val_RMSE_tf: 0.9511\n",
      "Epoch 21/60\n",
      "293/293 [==============================] - 5s 16ms/step - loss: 1.3565 - RMSE_tf: 0.9381 - val_loss: 1.3440 - val_RMSE_tf: 0.9487\n",
      "Epoch 22/60\n",
      "293/293 [==============================] - 5s 16ms/step - loss: 1.3093 - RMSE_tf: 0.9350 - val_loss: 1.2990 - val_RMSE_tf: 0.9453\n",
      "Epoch 23/60\n",
      "293/293 [==============================] - 5s 16ms/step - loss: 1.2671 - RMSE_tf: 0.9322 - val_loss: 1.2599 - val_RMSE_tf: 0.9433\n",
      "Epoch 24/60\n",
      "293/293 [==============================] - 5s 16ms/step - loss: 1.2303 - RMSE_tf: 0.9305 - val_loss: 1.2256 - val_RMSE_tf: 0.9421\n",
      "Epoch 25/60\n",
      "293/293 [==============================] - 5s 16ms/step - loss: 1.1978 - RMSE_tf: 0.9292 - val_loss: 1.1961 - val_RMSE_tf: 0.9421\n",
      "Epoch 26/60\n",
      "293/293 [==============================] - 5s 16ms/step - loss: 1.1686 - RMSE_tf: 0.9279 - val_loss: 1.1672 - val_RMSE_tf: 0.9395\n",
      "Epoch 27/60\n",
      "293/293 [==============================] - 5s 16ms/step - loss: 1.1430 - RMSE_tf: 0.9271 - val_loss: 1.1436 - val_RMSE_tf: 0.9393\n",
      "Epoch 28/60\n",
      "293/293 [==============================] - 5s 16ms/step - loss: 1.1198 - RMSE_tf: 0.9259 - val_loss: 1.1220 - val_RMSE_tf: 0.9385\n",
      "Epoch 29/60\n",
      "293/293 [==============================] - 5s 16ms/step - loss: 1.0998 - RMSE_tf: 0.9257 - val_loss: 1.1040 - val_RMSE_tf: 0.9392\n",
      "Epoch 30/60\n",
      "293/293 [==============================] - 5s 16ms/step - loss: 1.0817 - RMSE_tf: 0.9251 - val_loss: 1.0862 - val_RMSE_tf: 0.9380\n",
      "Epoch 31/60\n",
      "293/293 [==============================] - 5s 16ms/step - loss: 1.0657 - RMSE_tf: 0.9248 - val_loss: 1.0736 - val_RMSE_tf: 0.9400\n",
      "Epoch 32/60\n",
      "293/293 [==============================] - 5s 16ms/step - loss: 1.0516 - RMSE_tf: 0.9246 - val_loss: 1.0581 - val_RMSE_tf: 0.9378\n",
      "Epoch 33/60\n",
      "293/293 [==============================] - 5s 16ms/step - loss: 1.0391 - RMSE_tf: 0.9246 - val_loss: 1.0469 - val_RMSE_tf: 0.9382\n",
      "Epoch 34/60\n",
      "293/293 [==============================] - 5s 16ms/step - loss: 1.0282 - RMSE_tf: 0.9248 - val_loss: 1.0356 - val_RMSE_tf: 0.9374\n",
      "Epoch 35/60\n",
      "293/293 [==============================] - 5s 16ms/step - loss: 1.0179 - RMSE_tf: 0.9244 - val_loss: 1.0261 - val_RMSE_tf: 0.9373\n",
      "Epoch 36/60\n",
      "293/293 [==============================] - 5s 16ms/step - loss: 1.0093 - RMSE_tf: 0.9246 - val_loss: 1.0179 - val_RMSE_tf: 0.9374\n",
      "Epoch 37/60\n",
      "293/293 [==============================] - 5s 16ms/step - loss: 1.0017 - RMSE_tf: 0.9249 - val_loss: 1.0141 - val_RMSE_tf: 0.9411\n",
      "Epoch 38/60\n",
      "293/293 [==============================] - 5s 16ms/step - loss: 0.9946 - RMSE_tf: 0.9248 - val_loss: 1.0060 - val_RMSE_tf: 0.9396\n",
      "Epoch 39/60\n",
      "293/293 [==============================] - 5s 16ms/step - loss: 0.9885 - RMSE_tf: 0.9249 - val_loss: 1.0006 - val_RMSE_tf: 0.9401\n",
      "Epoch 40/60\n",
      "293/293 [==============================] - 5s 17ms/step - loss: 0.9829 - RMSE_tf: 0.9249 - val_loss: 0.9922 - val_RMSE_tf: 0.9370\n",
      "Epoch 41/60\n",
      "293/293 [==============================] - 5s 16ms/step - loss: 0.9778 - RMSE_tf: 0.9247 - val_loss: 0.9889 - val_RMSE_tf: 0.9385\n",
      "Epoch 42/60\n",
      "293/293 [==============================] - 5s 16ms/step - loss: 0.9736 - RMSE_tf: 0.9250 - val_loss: 0.9849 - val_RMSE_tf: 0.9386\n",
      "Epoch 43/60\n",
      "293/293 [==============================] - 5s 16ms/step - loss: 0.9698 - RMSE_tf: 0.9253 - val_loss: 0.9802 - val_RMSE_tf: 0.9376\n",
      "Epoch 44/60\n",
      "293/293 [==============================] - 5s 16ms/step - loss: 0.9663 - RMSE_tf: 0.9253 - val_loss: 0.9771 - val_RMSE_tf: 0.9379\n",
      "Epoch 45/60\n",
      "293/293 [==============================] - 5s 16ms/step - loss: 0.9632 - RMSE_tf: 0.9253 - val_loss: 0.9739 - val_RMSE_tf: 0.9376\n",
      "Epoch 46/60\n",
      "293/293 [==============================] - 5s 16ms/step - loss: 0.9605 - RMSE_tf: 0.9254 - val_loss: 0.9733 - val_RMSE_tf: 0.9396\n",
      "Epoch 47/60\n",
      "293/293 [==============================] - 5s 16ms/step - loss: 0.9579 - RMSE_tf: 0.9253 - val_loss: 0.9690 - val_RMSE_tf: 0.9378\n",
      "Epoch 48/60\n",
      "293/293 [==============================] - 5s 16ms/step - loss: 0.9564 - RMSE_tf: 0.9260 - val_loss: 0.9669 - val_RMSE_tf: 0.9378\n",
      "Epoch 49/60\n",
      "293/293 [==============================] - 5s 16ms/step - loss: 0.9546 - RMSE_tf: 0.9262 - val_loss: 0.9657 - val_RMSE_tf: 0.9384\n",
      "Epoch 50/60\n",
      "293/293 [==============================] - 5s 16ms/step - loss: 0.9526 - RMSE_tf: 0.9260 - val_loss: 0.9714 - val_RMSE_tf: 0.9459\n",
      "Epoch 51/60\n",
      "293/293 [==============================] - 5s 16ms/step - loss: 0.9506 - RMSE_tf: 0.9256 - val_loss: 0.9618 - val_RMSE_tf: 0.9378\n",
      "Epoch 52/60\n",
      "293/293 [==============================] - 5s 16ms/step - loss: 0.9493 - RMSE_tf: 0.9258 - val_loss: 0.9606 - val_RMSE_tf: 0.9380\n",
      "Epoch 53/60\n",
      "293/293 [==============================] - 5s 16ms/step - loss: 0.9483 - RMSE_tf: 0.9261 - val_loss: 0.9612 - val_RMSE_tf: 0.9397\n",
      "Epoch 54/60\n",
      "293/293 [==============================] - 5s 16ms/step - loss: 0.9473 - RMSE_tf: 0.9262 - val_loss: 0.9626 - val_RMSE_tf: 0.9422\n",
      "Epoch 55/60\n",
      "293/293 [==============================] - 5s 16ms/step - loss: 0.9471 - RMSE_tf: 0.9270 - val_loss: 0.9574 - val_RMSE_tf: 0.9380\n",
      "Epoch 56/60\n",
      "293/293 [==============================] - 5s 16ms/step - loss: 0.9456 - RMSE_tf: 0.9264 - val_loss: 0.9621 - val_RMSE_tf: 0.9435\n",
      "Epoch 57/60\n",
      "293/293 [==============================] - 5s 16ms/step - loss: 0.9446 - RMSE_tf: 0.9263 - val_loss: 0.9555 - val_RMSE_tf: 0.9378\n",
      "Epoch 58/60\n",
      "293/293 [==============================] - 5s 16ms/step - loss: 0.9439 - RMSE_tf: 0.9263 - val_loss: 0.9548 - val_RMSE_tf: 0.9377\n",
      "Epoch 59/60\n",
      "293/293 [==============================] - 5s 16ms/step - loss: 0.9439 - RMSE_tf: 0.9269 - val_loss: 0.9629 - val_RMSE_tf: 0.9464\n",
      "Epoch 60/60\n",
      "293/293 [==============================] - 5s 16ms/step - loss: 0.9433 - RMSE_tf: 0.9270 - val_loss: 0.9546 - val_RMSE_tf: 0.9387\n"
     ]
    }
   ],
   "source": [
    "# model fitting \n",
    "result = model.fit(\n",
    "    x = [ratings_train.user_id.values, ratings_train.movie_id.values],\n",
    "    y = ratings_train.rating.values -mu,\n",
    "    epochs = 60,\n",
    "    batch_size = 256,\n",
    "    validation_data = (\n",
    "    [ratings_test.user_id.values, ratings_test.movie_id.values],\n",
    "    ratings_test.rating.values- mu)\n",
    ")"
   ]
  },
  {
   "cell_type": "code",
   "execution_count": 14,
   "metadata": {},
   "outputs": [
    {
     "data": {
      "image/png": "[encoded data removed]",
      "text/plain": [
       "<Figure size 432x288 with 1 Axes>"
      ]
     },
     "metadata": {
      "needs_background": "light"
     },
     "output_type": "display_data"
    }
   ],
   "source": [
    "# plot rmse\n",
    "plt.plot(result.history['RMSE_tf'], label = 'Train RMSE')\n",
    "plt.plot(result.history['val_RMSE_tf'], label = 'Test RMSE')\n",
    "plt.legend()\n",
    "plt.show()"
   ]
  },
  {
   "cell_type": "markdown",
   "metadata": {},
   "source": [
    "## 6.4 딥러닝 모델에 변수 추가하기\n",
    " - 다른 특성(나이, 성별, 직업, 우편번호) 추가로 사용"
   ]
  },
  {
   "cell_type": "code",
   "execution_count": 15,
   "metadata": {},
   "outputs": [],
   "source": [
    "users, _, _ = getData()"
   ]
  },
  {
   "cell_type": "code",
   "execution_count": 17,
   "metadata": {},
   "outputs": [
    {
     "name": "stdout",
     "output_type": "stream",
     "text": [
      "Model: \"functional_5\"\n",
      "__________________________________________________________________________________________________\n",
      "Layer (type)                    Output Shape         Param #     Connected to                     \n",
      "==================================================================================================\n",
      "input_5 (InputLayer)            [(None, 1)]          0                                            \n",
      "__________________________________________________________________________________________________\n",
      "input_6 (InputLayer)            [(None, 1)]          0                                            \n",
      "__________________________________________________________________________________________________\n",
      "input_7 (InputLayer)            [(None, 1)]          0                                            \n",
      "__________________________________________________________________________________________________\n",
      "embedding_8 (Embedding)         (None, 1, 200)       188800      input_5[0][0]                    \n",
      "__________________________________________________________________________________________________\n",
      "embedding_9 (Embedding)         (None, 1, 200)       336600      input_6[0][0]                    \n",
      "__________________________________________________________________________________________________\n",
      "embedding_11 (Embedding)        (None, 1, 1)         944         input_5[0][0]                    \n",
      "__________________________________________________________________________________________________\n",
      "embedding_12 (Embedding)        (None, 1, 1)         1683        input_6[0][0]                    \n",
      "__________________________________________________________________________________________________\n",
      "embedding_10 (Embedding)        (None, 1, 3)         63          input_7[0][0]                    \n",
      "__________________________________________________________________________________________________\n",
      "flatten_8 (Flatten)             (None, 200)          0           embedding_8[0][0]                \n",
      "__________________________________________________________________________________________________\n",
      "flatten_9 (Flatten)             (None, 200)          0           embedding_9[0][0]                \n",
      "__________________________________________________________________________________________________\n",
      "flatten_10 (Flatten)            (None, 1)            0           embedding_11[0][0]               \n",
      "__________________________________________________________________________________________________\n",
      "flatten_11 (Flatten)            (None, 1)            0           embedding_12[0][0]               \n",
      "__________________________________________________________________________________________________\n",
      "flatten_12 (Flatten)            (None, 3)            0           embedding_10[0][0]               \n",
      "__________________________________________________________________________________________________\n",
      "concatenate_2 (Concatenate)     (None, 405)          0           flatten_8[0][0]                  \n",
      "                                                                 flatten_9[0][0]                  \n",
      "                                                                 flatten_10[0][0]                 \n",
      "                                                                 flatten_11[0][0]                 \n",
      "                                                                 flatten_12[0][0]                 \n",
      "__________________________________________________________________________________________________\n",
      "dense_6 (Dense)                 (None, 2048)         831488      concatenate_2[0][0]              \n",
      "__________________________________________________________________________________________________\n",
      "activation_4 (Activation)       (None, 2048)         0           dense_6[0][0]                    \n",
      "__________________________________________________________________________________________________\n",
      "dense_7 (Dense)                 (None, 256)          524544      activation_4[0][0]               \n",
      "__________________________________________________________________________________________________\n",
      "activation_5 (Activation)       (None, 256)          0           dense_7[0][0]                    \n",
      "__________________________________________________________________________________________________\n",
      "dense_8 (Dense)                 (None, 1)            257         activation_5[0][0]               \n",
      "==================================================================================================\n",
      "Total params: 1,884,379\n",
      "Trainable params: 1,884,379\n",
      "Non-trainable params: 0\n",
      "__________________________________________________________________________________________________\n"
     ]
    },
    {
     "name": "stderr",
     "output_type": "stream",
     "text": [
      "<ipython-input-17-73a648ac2c85>:12: SettingWithCopyWarning: \n",
      "A value is trying to be set on a copy of a slice from a DataFrame.\n",
      "Try using .loc[row_indexer,col_indexer] = value instead\n",
      "\n",
      "See the caveats in the documentation: https://pandas.pydata.org/pandas-docs/stable/user_guide/indexing.html#returning-a-view-versus-a-copy\n",
      "  users['occupation'] = users['occupation'].apply(convert_occ)\n"
     ]
    }
   ],
   "source": [
    "users.reset_index(inplace=True)\n",
    "users = users[['user_id','occupation']]\n",
    "\n",
    "# occupationㅇ르 숫자로 변경\n",
    "occupation = {}\n",
    "def convert_occ(x):\n",
    "    if x in occupation:\n",
    "        return occupation[x]\n",
    "    else:\n",
    "        occupation[x] = len(occupation)\n",
    "        return occupation[x]\n",
    "users['occupation'] = users['occupation'].apply(convert_occ)\n",
    "L = len(occupation)\n",
    "train_occ = pd.merge(ratings_train, users, on='user_id')['occupation']\n",
    "test_occ = pd.merge(ratings_test, users, on='user_id')['occupation']\n",
    "\n",
    "# Keras Model\n",
    "user = Input(shape=(1,))\n",
    "item = Input(shape=(1,))\n",
    "occ = Input(shape=(1,))\n",
    "\n",
    "P_embedding = Embedding(M, K, embeddings_regularizer=l2())(user)\n",
    "Q_embedding = Embedding(N, K, embeddings_regularizer=l2())(item)\n",
    "occ_embedding = Embedding(L, 3, embeddings_regularizer=l2())(occ)\n",
    "\n",
    "user_bias = Embedding(M, 1, embeddings_regularizer=l2())(user)\n",
    "item_bias = Embedding(N, 1, embeddings_regularizer=l2())(item)\n",
    "\n",
    "\n",
    "# hidden layer 추가\n",
    "P_embedding = Flatten()(P_embedding)\n",
    "Q_embedding = Flatten()(Q_embedding)\n",
    "\n",
    "user_bias = Flatten()(user_bias)\n",
    "item_bias = Flatten()(item_bias)\n",
    "\n",
    "occ_layer = Flatten()(occ_embedding)\n",
    "\n",
    "R = Concatenate()([P_embedding, Q_embedding, user_bias, item_bias, occ_layer])\n",
    "\n",
    "R = Dense(2048)(R)\n",
    "R = Activation('linear')(R)\n",
    "R = Dense(256)(R)\n",
    "R = Activation('linear')(R)\n",
    "R = Dense(1)(R)\n",
    "\n",
    "# model setting\n",
    "model = Model(inputs=[user, item,occ], outputs=R)\n",
    "model.compile(loss=RMSE_tf,\n",
    "              optimizer = SGD(),\n",
    "              metrics = [RMSE_tf]\n",
    "             )\n",
    "model.summary()"
   ]
  },
  {
   "cell_type": "code",
   "execution_count": 18,
   "metadata": {
    "collapsed": true,
    "jupyter": {
     "outputs_hidden": true
    }
   },
   "outputs": [
    {
     "name": "stdout",
     "output_type": "stream",
     "text": [
      "Epoch 1/60\n"
     ]
    },
    {
     "name": "stderr",
     "output_type": "stream",
     "text": [
      "C:\\Users\\GIHO\\Anaconda3\\envs\\tf2\\lib\\site-packages\\tensorflow\\python\\framework\\indexed_slices.py:431: UserWarning: Converting sparse IndexedSlices to a dense Tensor of unknown shape. This may consume a large amount of memory.\n",
      "  warnings.warn(\n"
     ]
    },
    {
     "name": "stdout",
     "output_type": "stream",
     "text": [
      "293/293 [==============================] - 5s 16ms/step - loss: 5.2741 - RMSE_tf: 1.1237 - val_loss: 5.0334 - val_RMSE_tf: 1.1223\n",
      "Epoch 2/60\n",
      "293/293 [==============================] - 5s 16ms/step - loss: 4.8118 - RMSE_tf: 1.1203 - val_loss: 4.5980 - val_RMSE_tf: 1.1193\n",
      "Epoch 3/60\n",
      "293/293 [==============================] - 5s 16ms/step - loss: 4.4005 - RMSE_tf: 1.1170 - val_loss: 4.2104 - val_RMSE_tf: 1.1160\n",
      "Epoch 4/60\n",
      "293/293 [==============================] - 5s 16ms/step - loss: 4.0344 - RMSE_tf: 1.1136 - val_loss: 3.8649 - val_RMSE_tf: 1.1122\n",
      "Epoch 5/60\n",
      "293/293 [==============================] - 5s 16ms/step - loss: 3.7078 - RMSE_tf: 1.1094 - val_loss: 3.5566 - val_RMSE_tf: 1.1076\n",
      "Epoch 6/60\n",
      "293/293 [==============================] - 5s 16ms/step - loss: 3.4159 - RMSE_tf: 1.1039 - val_loss: 3.2809 - val_RMSE_tf: 1.1017\n",
      "Epoch 7/60\n",
      "293/293 [==============================] - 5s 16ms/step - loss: 3.1545 - RMSE_tf: 1.0970 - val_loss: 3.0335 - val_RMSE_tf: 1.0939\n",
      "Epoch 8/60\n",
      "293/293 [==============================] - 5s 16ms/step - loss: 2.9193 - RMSE_tf: 1.0877 - val_loss: 2.8106 - val_RMSE_tf: 1.0837\n",
      "Epoch 9/60\n",
      "293/293 [==============================] - 5s 16ms/step - loss: 2.7069 - RMSE_tf: 1.0759 - val_loss: 2.6092 - val_RMSE_tf: 1.0710\n",
      "Epoch 10/60\n",
      "293/293 [==============================] - 5s 16ms/step - loss: 2.5141 - RMSE_tf: 1.0610 - val_loss: 2.4257 - val_RMSE_tf: 1.0549\n",
      "Epoch 11/60\n",
      "293/293 [==============================] - 5s 16ms/step - loss: 2.3388 - RMSE_tf: 1.0434 - val_loss: 2.2597 - val_RMSE_tf: 1.0373\n",
      "Epoch 12/60\n",
      "293/293 [==============================] - 5s 16ms/step - loss: 2.1801 - RMSE_tf: 1.0247 - val_loss: 2.1097 - val_RMSE_tf: 1.0191\n",
      "Epoch 13/60\n",
      "293/293 [==============================] - 5s 16ms/step - loss: 2.0374 - RMSE_tf: 1.0064 - val_loss: 1.9757 - val_RMSE_tf: 1.0022\n",
      "Epoch 14/60\n",
      "293/293 [==============================] - 5s 16ms/step - loss: 1.9103 - RMSE_tf: 0.9899 - val_loss: 1.8576 - val_RMSE_tf: 0.9885\n",
      "Epoch 15/60\n",
      "293/293 [==============================] - 5s 16ms/step - loss: 1.7983 - RMSE_tf: 0.9764 - val_loss: 1.7550 - val_RMSE_tf: 0.9790\n",
      "Epoch 16/60\n",
      "293/293 [==============================] - 5s 16ms/step - loss: 1.6995 - RMSE_tf: 0.9657 - val_loss: 1.6638 - val_RMSE_tf: 0.9709\n",
      "Epoch 17/60\n",
      "293/293 [==============================] - 5s 16ms/step - loss: 1.6124 - RMSE_tf: 0.9570 - val_loss: 1.5843 - val_RMSE_tf: 0.9655\n",
      "Epoch 18/60\n",
      "293/293 [==============================] - 5s 16ms/step - loss: 1.5356 - RMSE_tf: 0.9503 - val_loss: 1.5100 - val_RMSE_tf: 0.9572\n",
      "Epoch 19/60\n",
      "293/293 [==============================] - 5s 16ms/step - loss: 1.4677 - RMSE_tf: 0.9448 - val_loss: 1.4467 - val_RMSE_tf: 0.9527\n",
      "Epoch 20/60\n",
      "293/293 [==============================] - 5s 16ms/step - loss: 1.4077 - RMSE_tf: 0.9403 - val_loss: 1.3918 - val_RMSE_tf: 0.9503\n",
      "Epoch 21/60\n",
      "293/293 [==============================] - 5s 16ms/step - loss: 1.3548 - RMSE_tf: 0.9369 - val_loss: 1.3413 - val_RMSE_tf: 0.9466\n",
      "Epoch 22/60\n",
      "293/293 [==============================] - 5s 16ms/step - loss: 1.3075 - RMSE_tf: 0.9338 - val_loss: 1.2982 - val_RMSE_tf: 0.9450\n",
      "Epoch 23/60\n",
      "293/293 [==============================] - 5s 16ms/step - loss: 1.2662 - RMSE_tf: 0.9318 - val_loss: 1.2639 - val_RMSE_tf: 0.9478\n",
      "Epoch 24/60\n",
      "293/293 [==============================] - 5s 16ms/step - loss: 1.2293 - RMSE_tf: 0.9299 - val_loss: 1.2252 - val_RMSE_tf: 0.9422\n",
      "Epoch 25/60\n",
      "293/293 [==============================] - 5s 16ms/step - loss: 1.1966 - RMSE_tf: 0.9283 - val_loss: 1.1940 - val_RMSE_tf: 0.9404\n",
      "Epoch 26/60\n",
      "293/293 [==============================] - 5s 16ms/step - loss: 1.1680 - RMSE_tf: 0.9276 - val_loss: 1.1670 - val_RMSE_tf: 0.9396\n",
      "Epoch 27/60\n",
      "293/293 [==============================] - 5s 16ms/step - loss: 1.1420 - RMSE_tf: 0.9264 - val_loss: 1.1430 - val_RMSE_tf: 0.9390\n",
      "Epoch 28/60\n",
      "293/293 [==============================] - 5s 16ms/step - loss: 1.1198 - RMSE_tf: 0.9262 - val_loss: 1.1219 - val_RMSE_tf: 0.9388\n",
      "Epoch 29/60\n",
      "293/293 [==============================] - 5s 16ms/step - loss: 1.0993 - RMSE_tf: 0.9254 - val_loss: 1.1039 - val_RMSE_tf: 0.9393\n",
      "Epoch 30/60\n",
      "293/293 [==============================] - 5s 16ms/step - loss: 1.0816 - RMSE_tf: 0.9253 - val_loss: 1.0888 - val_RMSE_tf: 0.9407\n",
      "Epoch 31/60\n",
      "293/293 [==============================] - 5s 16ms/step - loss: 1.0650 - RMSE_tf: 0.9244 - val_loss: 1.0715 - val_RMSE_tf: 0.9382\n",
      "Epoch 32/60\n",
      "293/293 [==============================] - 5s 16ms/step - loss: 1.0512 - RMSE_tf: 0.9245 - val_loss: 1.0576 - val_RMSE_tf: 0.9375\n",
      "Epoch 33/60\n",
      "293/293 [==============================] - 5s 16ms/step - loss: 1.0386 - RMSE_tf: 0.9243 - val_loss: 1.0472 - val_RMSE_tf: 0.9388\n",
      "Epoch 34/60\n",
      "293/293 [==============================] - 5s 16ms/step - loss: 1.0278 - RMSE_tf: 0.9246 - val_loss: 1.0355 - val_RMSE_tf: 0.9376\n",
      "Epoch 35/60\n",
      "293/293 [==============================] - 5s 16ms/step - loss: 1.0177 - RMSE_tf: 0.9244 - val_loss: 1.0288 - val_RMSE_tf: 0.9402\n",
      "Epoch 36/60\n",
      "293/293 [==============================] - 5s 16ms/step - loss: 1.0090 - RMSE_tf: 0.9245 - val_loss: 1.0174 - val_RMSE_tf: 0.9372\n",
      "Epoch 37/60\n",
      "293/293 [==============================] - 5s 16ms/step - loss: 1.0007 - RMSE_tf: 0.9240 - val_loss: 1.0099 - val_RMSE_tf: 0.9371\n",
      "Epoch 38/60\n",
      "293/293 [==============================] - 5s 16ms/step - loss: 0.9944 - RMSE_tf: 0.9248 - val_loss: 1.0042 - val_RMSE_tf: 0.9380\n",
      "Epoch 39/60\n",
      "293/293 [==============================] - 5s 16ms/step - loss: 0.9880 - RMSE_tf: 0.9246 - val_loss: 0.9981 - val_RMSE_tf: 0.9377\n",
      "Epoch 40/60\n",
      "293/293 [==============================] - 5s 16ms/step - loss: 0.9825 - RMSE_tf: 0.9246 - val_loss: 0.9936 - val_RMSE_tf: 0.9385\n",
      "Epoch 41/60\n",
      "293/293 [==============================] - 5s 16ms/step - loss: 0.9776 - RMSE_tf: 0.9247 - val_loss: 0.9882 - val_RMSE_tf: 0.9378\n",
      "Epoch 42/60\n",
      "293/293 [==============================] - 5s 16ms/step - loss: 0.9738 - RMSE_tf: 0.9253 - val_loss: 0.9851 - val_RMSE_tf: 0.9389\n",
      "Epoch 43/60\n",
      "293/293 [==============================] - 5s 16ms/step - loss: 0.9692 - RMSE_tf: 0.9246 - val_loss: 0.9814 - val_RMSE_tf: 0.9390\n",
      "Epoch 44/60\n",
      "293/293 [==============================] - 5s 16ms/step - loss: 0.9662 - RMSE_tf: 0.9253 - val_loss: 0.9847 - val_RMSE_tf: 0.9455\n",
      "Epoch 45/60\n",
      "293/293 [==============================] - 5s 16ms/step - loss: 0.9627 - RMSE_tf: 0.9248 - val_loss: 0.9743 - val_RMSE_tf: 0.9380\n",
      "Epoch 46/60\n",
      "293/293 [==============================] - 5s 16ms/step - loss: 0.9604 - RMSE_tf: 0.9253 - val_loss: 0.9719 - val_RMSE_tf: 0.9383\n",
      "Epoch 47/60\n",
      "293/293 [==============================] - 5s 16ms/step - loss: 0.9581 - RMSE_tf: 0.9255 - val_loss: 0.9683 - val_RMSE_tf: 0.9371\n",
      "Epoch 48/60\n",
      "293/293 [==============================] - 5s 16ms/step - loss: 0.9557 - RMSE_tf: 0.9254 - val_loss: 0.9673 - val_RMSE_tf: 0.9382\n",
      "Epoch 49/60\n",
      "293/293 [==============================] - 5s 16ms/step - loss: 0.9540 - RMSE_tf: 0.9257 - val_loss: 0.9677 - val_RMSE_tf: 0.9406\n",
      "Epoch 50/60\n",
      "293/293 [==============================] - 5s 16ms/step - loss: 0.9522 - RMSE_tf: 0.9257 - val_loss: 0.9634 - val_RMSE_tf: 0.9379\n",
      "Epoch 51/60\n",
      "293/293 [==============================] - 5s 16ms/step - loss: 0.9507 - RMSE_tf: 0.9258 - val_loss: 0.9613 - val_RMSE_tf: 0.9373\n",
      "Epoch 52/60\n",
      "293/293 [==============================] - 5s 16ms/step - loss: 0.9495 - RMSE_tf: 0.9260 - val_loss: 0.9600 - val_RMSE_tf: 0.9373\n",
      "Epoch 53/60\n",
      "293/293 [==============================] - 5s 16ms/step - loss: 0.9484 - RMSE_tf: 0.9262 - val_loss: 0.9608 - val_RMSE_tf: 0.9394\n",
      "Epoch 54/60\n",
      "293/293 [==============================] - 5s 16ms/step - loss: 0.9476 - RMSE_tf: 0.9265 - val_loss: 0.9583 - val_RMSE_tf: 0.9379\n",
      "Epoch 55/60\n",
      "293/293 [==============================] - 5s 16ms/step - loss: 0.9461 - RMSE_tf: 0.9260 - val_loss: 0.9580 - val_RMSE_tf: 0.9385\n",
      "Epoch 56/60\n",
      "293/293 [==============================] - 5s 16ms/step - loss: 0.9458 - RMSE_tf: 0.9267 - val_loss: 0.9628 - val_RMSE_tf: 0.9442\n",
      "Epoch 57/60\n",
      "293/293 [==============================] - 5s 16ms/step - loss: 0.9452 - RMSE_tf: 0.9268 - val_loss: 0.9557 - val_RMSE_tf: 0.9379\n",
      "Epoch 58/60\n",
      "293/293 [==============================] - 5s 16ms/step - loss: 0.9446 - RMSE_tf: 0.9270 - val_loss: 0.9546 - val_RMSE_tf: 0.9375\n",
      "Epoch 59/60\n",
      "293/293 [==============================] - 5s 16ms/step - loss: 0.9438 - RMSE_tf: 0.9268 - val_loss: 0.9605 - val_RMSE_tf: 0.9441\n",
      "Epoch 60/60\n",
      "293/293 [==============================] - 5s 16ms/step - loss: 0.9428 - RMSE_tf: 0.9264 - val_loss: 0.9544 - val_RMSE_tf: 0.9384\n"
     ]
    }
   ],
   "source": [
    "# model fitting \n",
    "result = model.fit(\n",
    "    x = [ratings_train.user_id.values, ratings_train.movie_id.values, train_occ.values],\n",
    "    y = ratings_train.rating.values -mu,\n",
    "    epochs = 60,\n",
    "    batch_size = 256,\n",
    "    validation_data = (\n",
    "    [ratings_test.user_id.values, ratings_test.movie_id.values, test_occ.values],\n",
    "    ratings_test.rating.values- mu)\n",
    ")"
   ]
  },
  {
   "cell_type": "code",
   "execution_count": 19,
   "metadata": {},
   "outputs": [
    {
     "data": {
      "image/png": "[encoded data removed]",
      "text/plain": [
       "<Figure size 432x288 with 1 Axes>"
      ]
     },
     "metadata": {
      "needs_background": "light"
     },
     "output_type": "display_data"
    }
   ],
   "source": [
    "# plot rmse\n",
    "plt.plot(result.history['RMSE_tf'], label = 'Train RMSE')\n",
    "plt.plot(result.history['val_RMSE_tf'], label = 'Test RMSE')\n",
    "plt.legend()\n",
    "plt.show()"
   ]
  },
  {
   "cell_type": "code",
   "execution_count": null,
   "metadata": {},
   "outputs": [],
   "source": []
  }
 ],
 "metadata": {
  "kernelspec": {
   "display_name": "Python 3",
   "language": "python",
   "name": "python3"
  },
  "language_info": {
   "codemirror_mode": {
    "name": "ipython",
    "version": 3
   },
   "file_extension": ".py",
   "mimetype": "text/x-python",
   "name": "python",
   "nbconvert_exporter": "python",
   "pygments_lexer": "ipython3",
   "version": "3.7.4"
  }
 },
 "nbformat": 4,
 "nbformat_minor": 4
}
