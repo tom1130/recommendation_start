{
 "cells": [
  {
   "cell_type": "markdown",
   "metadata": {},
   "source": [
    "# 7. 하이브리드 추천 시스템\n",
    " - 다수의 추천 알고리즘을 결합하는 것이 더 정확\n",
    " - 복수의 추천 알고리즘을 결합해서 사용하는 것을 하이브리드 추천 알고리즘이라고 함"
   ]
  },
  {
   "cell_type": "markdown",
   "metadata": {},
   "source": [
    "## 7.1 하이브리드 추천 시스템의 강점\n",
    " - 랜덤포레스트가 단일 트리모델보다 더 좋은 성능을 가지는 이유와 같음"
   ]
  },
  {
   "cell_type": "markdown",
   "metadata": {},
   "source": [
    "## 7.2 하이브리드 추천 시스템의 원리\n",
    " - 가상의 추천엔진 결합하는 코드 실습"
   ]
  },
  {
   "cell_type": "code",
   "execution_count": 8,
   "metadata": {},
   "outputs": [],
   "source": [
    "from utility import *\n",
    "from sklearn.utils import shuffle\n",
    "import random"
   ]
  },
  {
   "cell_type": "code",
   "execution_count": 10,
   "metadata": {},
   "outputs": [],
   "source": [
    "_, _, ratings = getData()\n",
    "ratings.reset_index(inplace=True)\n",
    "ratings.drop('timestamp',axis=1, inplace=True)"
   ]
  },
  {
   "cell_type": "code",
   "execution_count": 11,
   "metadata": {},
   "outputs": [],
   "source": [
    "# train_test split\n",
    "ratings = shuffle(ratings)\n",
    "TRAIN_SIZE = 0.75\n",
    "cutoff = int(TRAIN_SIZE*len(ratings))\n",
    "ratings_train = ratings.iloc[:cutoff]\n",
    "ratings_test = ratings.iloc[cutoff:]"
   ]
  },
  {
   "cell_type": "code",
   "execution_count": 12,
   "metadata": {},
   "outputs": [
    {
     "data": {
      "text/plain": [
       "1.571932488700433"
      ]
     },
     "execution_count": 12,
     "metadata": {},
     "output_type": "execute_result"
    }
   ],
   "source": [
    "# dummy recommender \n",
    "def recommender0(recom_list):\n",
    "    recommendations = []\n",
    "    for pair in recom_list:\n",
    "        recommendations.append(random.random()*4 +1)\n",
    "    return np.array(recommendations)\n",
    "\n",
    "def recommender1(recom_list):\n",
    "    recommendations = []\n",
    "    for pari in recom_list:\n",
    "        recommendations.append(random.random()*4+1)\n",
    "    return np.array(recommendations)\n",
    "\n",
    "weight = [0.8,0.2]\n",
    "recom_list = np.array(ratings_test)\n",
    "predictions0 = recommender0(recom_list)\n",
    "predictions1 = recommender1(recom_list)\n",
    "predictions = weight[0]*predictions0 + weight[1]*predictions1\n",
    "RMSE(recom_list[:,2],predictions)"
   ]
  },
  {
   "cell_type": "markdown",
   "metadata": {},
   "source": [
    "## 7.3 하이브리드 추천 시스템(CF와 MF의 결합)"
   ]
  },
  {
   "cell_type": "code",
   "execution_count": 13,
   "metadata": {},
   "outputs": [],
   "source": [
    "import pandas as pd\n",
    "import numpy as np\n",
    "from sklearn.metrics.pairwise import cosine_similarity\n",
    "from sklearn.model_selection import train_test_split"
   ]
  },
  {
   "cell_type": "code",
   "execution_count": 14,
   "metadata": {},
   "outputs": [],
   "source": [
    "users, movies, ratings = getData()\n",
    "\n",
    "ratings.drop('timestamp', axis=1, inplace=True)\n",
    "ratings.reset_index(inplace=True)\n",
    "\n",
    "x = ratings.copy()\n",
    "y = ratings['user_id']\n",
    "x_train, x_test, y_train, y_test = train_test_split(x, y, stratify=y, test_size = 0.25)\n",
    "\n",
    "rating_matrix = x_train.pivot(index = 'user_id',columns = 'movie_id',values = 'rating')"
   ]
  },
  {
   "cell_type": "code",
   "execution_count": 15,
   "metadata": {},
   "outputs": [],
   "source": [
    "matrix_dummy = rating_matrix.copy().fillna(0)\n",
    "user_similarity = cosine_similarity(matrix_dummy, matrix_dummy)\n",
    "user_similarity = pd.DataFrame(user_similarity, index = rating_matrix.index, columns = rating_matrix.index)"
   ]
  },
  {
   "cell_type": "code",
   "execution_count": 16,
   "metadata": {},
   "outputs": [],
   "source": [
    "rating_mean = rating_matrix.mean(axis=1)\n",
    "rating_bias = (rating_matrix.T - rating_mean).T\n",
    "\n",
    "def CF_knn_bias(user_id, movie_id, neighbor_size = 0):\n",
    "    if movie_id in rating_bias:\n",
    "        sim_scores = user_similarity[user_id].copy()\n",
    "        movie_ratings = rating_bias[movie_id].copy()\n",
    "        none_rating_idx = movie_ratings[movie_ratings.isnull()].index\n",
    "        movie_ratings = movie_ratings.drop(none_rating_idx)\n",
    "        sim_scores = sim_scores.drop(none_rating_idx)\n",
    "        \n",
    "        if neighbor_size == 0:\n",
    "            prediction = np.dot(sim_scores,movie_ratings)/sim_scores.sum()\n",
    "            prediction += rating_mean[user_id]\n",
    "        \n",
    "        else:\n",
    "            if len(sim_scores)>1:\n",
    "                neighbor_size = min(neighbor_size, len(sim_scores))\n",
    "                sim_scores = np.array(sim_scores)\n",
    "                movie_ratings = np.array(movie_ratings)\n",
    "                user_idx = np.argsort(sim_scores)\n",
    "                sim_scores = sim_scores[user_idx][-neighbor_size:]\n",
    "                movie_ratings = movie_ratings[user_idx][-neighbor_size:]\n",
    "                prediction = np.dot(sim_scores,movie_ratings)/sim_scores.sum()\n",
    "                prediction += rating_mean[user_id]\n",
    "            else:\n",
    "                prediction = rating_mean[user_id]\n",
    "    else:\n",
    "        prediction = rating_mean[user_id]\n",
    "    return prediction"
   ]
  },
  {
   "cell_type": "code",
   "execution_count": 17,
   "metadata": {},
   "outputs": [
    {
     "name": "stdout",
     "output_type": "stream",
     "text": [
      "Iteration: 10 ; Train RMSE = 0.9655 ; Test RMSE = 0.9878\n",
      "Iteration: 20 ; Train RMSE = 0.9413 ; Test RMSE = 0.9672\n",
      "Iteration: 30 ; Train RMSE = 0.9307 ; Test RMSE = 0.9588\n",
      "Iteration: 40 ; Train RMSE = 0.9247 ; Test RMSE = 0.9543\n",
      "Iteration: 50 ; Train RMSE = 0.9208 ; Test RMSE = 0.9515\n",
      "Iteration: 60 ; Train RMSE = 0.9181 ; Test RMSE = 0.9496\n",
      "Iteration: 70 ; Train RMSE = 0.9160 ; Test RMSE = 0.9483\n",
      "Iteration: 80 ; Train RMSE = 0.9142 ; Test RMSE = 0.9473\n",
      "Iteration: 90 ; Train RMSE = 0.9124 ; Test RMSE = 0.9465\n",
      "Iteration: 100 ; Train RMSE = 0.9105 ; Test RMSE = 0.9458\n",
      "Iteration: 110 ; Train RMSE = 0.9082 ; Test RMSE = 0.9448\n",
      "Iteration: 120 ; Train RMSE = 0.9049 ; Test RMSE = 0.9436\n",
      "Iteration: 130 ; Train RMSE = 0.9003 ; Test RMSE = 0.9419\n",
      "Iteration: 140 ; Train RMSE = 0.8938 ; Test RMSE = 0.9393\n",
      "Iteration: 150 ; Train RMSE = 0.8851 ; Test RMSE = 0.9360\n",
      "Iteration: 160 ; Train RMSE = 0.8744 ; Test RMSE = 0.9324\n",
      "Iteration: 170 ; Train RMSE = 0.8622 ; Test RMSE = 0.9287\n",
      "Iteration: 180 ; Train RMSE = 0.8488 ; Test RMSE = 0.9253\n",
      "Iteration: 190 ; Train RMSE = 0.8339 ; Test RMSE = 0.9221\n",
      "Iteration: 200 ; Train RMSE = 0.8176 ; Test RMSE = 0.9192\n",
      "Iteration: 210 ; Train RMSE = 0.7997 ; Test RMSE = 0.9165\n",
      "Iteration: 220 ; Train RMSE = 0.7801 ; Test RMSE = 0.9142\n",
      "Iteration: 230 ; Train RMSE = 0.7591 ; Test RMSE = 0.9124\n",
      "Iteration: 240 ; Train RMSE = 0.7369 ; Test RMSE = 0.9111\n",
      "Iteration: 250 ; Train RMSE = 0.7138 ; Test RMSE = 0.9103\n"
     ]
    }
   ],
   "source": [
    "R_temp = ratings.pivot(index='user_id', columns='movie_id', values='rating').fillna(0)\n",
    "mf = NEW_MF(R_temp, K=200, alpha=0.001, beta=0.02, iterations=250, verbose=True)\n",
    "test_set = mf.set_test(ratings_test)\n",
    "result = mf.test()"
   ]
  },
  {
   "cell_type": "code",
   "execution_count": 18,
   "metadata": {},
   "outputs": [],
   "source": [
    "def recommender0(recomm_list, mf):\n",
    "    recommendations = np.array([mf.get_one_prediction(user, movie) for (user, movie) in recomm_list])\n",
    "    return recommendations\n",
    "\n",
    "def recommender1(recomm_list, neighbor_size=0):\n",
    "    recommendations = np.array([CF_knn_bias(user, movie, neighbor_size) for (user, movie) in recomm_list])\n",
    "    return recommendations"
   ]
  },
  {
   "cell_type": "code",
   "execution_count": 19,
   "metadata": {},
   "outputs": [
    {
     "data": {
      "text/plain": [
       "0.8908946156532926"
      ]
     },
     "execution_count": 19,
     "metadata": {},
     "output_type": "execute_result"
    }
   ],
   "source": [
    "recomm_list = np.array(ratings_test.iloc[:,[0,1]])\n",
    "predictions0 = recommender0(recomm_list,mf)\n",
    "RMSE(ratings_test.iloc[:,2], predictions0)\n",
    "predictions1 = recommender1(recomm_list,37)\n",
    "RMSE(ratings_test.iloc[:,2], predictions1)\n",
    "\n",
    "weight = [0.8,0.2]\n",
    "predictions = predictions0 * weight[0] + predictions1 * weight[1]\n",
    "RMSE(ratings_test.iloc[:,2], predictions)"
   ]
  },
  {
   "cell_type": "code",
   "execution_count": 24,
   "metadata": {},
   "outputs": [
    {
     "name": "stdout",
     "output_type": "stream",
     "text": [
      "Weights - 0.00 : 1.00 ; RMSE = 0.8597621\n",
      "Weights - 0.01 : 0.99 ; RMSE = 0.8596684\n",
      "Weights - 0.02 : 0.98 ; RMSE = 0.8595872\n",
      "Weights - 0.03 : 0.97 ; RMSE = 0.8595183\n",
      "Weights - 0.04 : 0.96 ; RMSE = 0.8594619\n",
      "Weights - 0.05 : 0.95 ; RMSE = 0.8594178\n",
      "Weights - 0.06 : 0.94 ; RMSE = 0.8593862\n",
      "Weights - 0.07 : 0.93 ; RMSE = 0.8593669\n",
      "Weights - 0.08 : 0.92 ; RMSE = 0.8593601\n",
      "Weights - 0.09 : 0.91 ; RMSE = 0.8593656\n",
      "Weights - 0.10 : 0.90 ; RMSE = 0.8593836\n",
      "Weights - 0.11 : 0.89 ; RMSE = 0.8594140\n",
      "Weights - 0.12 : 0.88 ; RMSE = 0.8594568\n",
      "Weights - 0.13 : 0.87 ; RMSE = 0.8595120\n",
      "Weights - 0.14 : 0.86 ; RMSE = 0.8595796\n",
      "Weights - 0.15 : 0.85 ; RMSE = 0.8596596\n",
      "Weights - 0.16 : 0.84 ; RMSE = 0.8597519\n",
      "Weights - 0.17 : 0.83 ; RMSE = 0.8598567\n",
      "Weights - 0.18 : 0.82 ; RMSE = 0.8599739\n",
      "Weights - 0.19 : 0.81 ; RMSE = 0.8601034\n",
      "Weights - 0.20 : 0.80 ; RMSE = 0.8602453\n",
      "Weights - 0.21 : 0.79 ; RMSE = 0.8603996\n",
      "Weights - 0.22 : 0.78 ; RMSE = 0.8605662\n",
      "Weights - 0.23 : 0.77 ; RMSE = 0.8607452\n",
      "Weights - 0.24 : 0.76 ; RMSE = 0.8609366\n",
      "Weights - 0.25 : 0.75 ; RMSE = 0.8611403\n",
      "Weights - 0.26 : 0.74 ; RMSE = 0.8613563\n",
      "Weights - 0.27 : 0.73 ; RMSE = 0.8615846\n",
      "Weights - 0.28 : 0.72 ; RMSE = 0.8618253\n",
      "Weights - 0.29 : 0.71 ; RMSE = 0.8620782\n",
      "Weights - 0.30 : 0.70 ; RMSE = 0.8623435\n",
      "Weights - 0.31 : 0.69 ; RMSE = 0.8626210\n",
      "Weights - 0.32 : 0.68 ; RMSE = 0.8629107\n",
      "Weights - 0.33 : 0.67 ; RMSE = 0.8632128\n",
      "Weights - 0.34 : 0.66 ; RMSE = 0.8635271\n",
      "Weights - 0.35 : 0.65 ; RMSE = 0.8638536\n",
      "Weights - 0.36 : 0.64 ; RMSE = 0.8641923\n",
      "Weights - 0.37 : 0.63 ; RMSE = 0.8645432\n",
      "Weights - 0.38 : 0.62 ; RMSE = 0.8649063\n",
      "Weights - 0.39 : 0.61 ; RMSE = 0.8652816\n",
      "Weights - 0.40 : 0.60 ; RMSE = 0.8656690\n",
      "Weights - 0.41 : 0.59 ; RMSE = 0.8660686\n",
      "Weights - 0.42 : 0.58 ; RMSE = 0.8664803\n",
      "Weights - 0.43 : 0.57 ; RMSE = 0.8669040\n",
      "Weights - 0.44 : 0.56 ; RMSE = 0.8673399\n",
      "Weights - 0.45 : 0.55 ; RMSE = 0.8677879\n",
      "Weights - 0.46 : 0.54 ; RMSE = 0.8682479\n",
      "Weights - 0.47 : 0.53 ; RMSE = 0.8687199\n",
      "Weights - 0.48 : 0.52 ; RMSE = 0.8692039\n",
      "Weights - 0.49 : 0.51 ; RMSE = 0.8696999\n",
      "Weights - 0.50 : 0.50 ; RMSE = 0.8702079\n",
      "Weights - 0.51 : 0.49 ; RMSE = 0.8707279\n",
      "Weights - 0.52 : 0.48 ; RMSE = 0.8712597\n",
      "Weights - 0.53 : 0.47 ; RMSE = 0.8718035\n",
      "Weights - 0.54 : 0.46 ; RMSE = 0.8723592\n",
      "Weights - 0.55 : 0.45 ; RMSE = 0.8729267\n",
      "Weights - 0.56 : 0.44 ; RMSE = 0.8735060\n",
      "Weights - 0.57 : 0.43 ; RMSE = 0.8740972\n",
      "Weights - 0.58 : 0.42 ; RMSE = 0.8747002\n",
      "Weights - 0.59 : 0.41 ; RMSE = 0.8753149\n",
      "Weights - 0.60 : 0.40 ; RMSE = 0.8759413\n",
      "Weights - 0.61 : 0.39 ; RMSE = 0.8765795\n",
      "Weights - 0.62 : 0.38 ; RMSE = 0.8772294\n",
      "Weights - 0.63 : 0.37 ; RMSE = 0.8778909\n",
      "Weights - 0.64 : 0.36 ; RMSE = 0.8785641\n",
      "Weights - 0.65 : 0.35 ; RMSE = 0.8792489\n",
      "Weights - 0.66 : 0.34 ; RMSE = 0.8799452\n",
      "Weights - 0.67 : 0.33 ; RMSE = 0.8806532\n",
      "Weights - 0.68 : 0.32 ; RMSE = 0.8813726\n",
      "Weights - 0.69 : 0.31 ; RMSE = 0.8821036\n",
      "Weights - 0.70 : 0.30 ; RMSE = 0.8828460\n",
      "Weights - 0.71 : 0.29 ; RMSE = 0.8835998\n",
      "Weights - 0.72 : 0.28 ; RMSE = 0.8843651\n",
      "Weights - 0.73 : 0.27 ; RMSE = 0.8851418\n",
      "Weights - 0.74 : 0.26 ; RMSE = 0.8859298\n",
      "Weights - 0.75 : 0.25 ; RMSE = 0.8867291\n",
      "Weights - 0.76 : 0.24 ; RMSE = 0.8875398\n",
      "Weights - 0.77 : 0.23 ; RMSE = 0.8883617\n",
      "Weights - 0.78 : 0.22 ; RMSE = 0.8891948\n",
      "Weights - 0.79 : 0.21 ; RMSE = 0.8900391\n",
      "Weights - 0.80 : 0.20 ; RMSE = 0.8908946\n",
      "Weights - 0.81 : 0.19 ; RMSE = 0.8917612\n",
      "Weights - 0.82 : 0.18 ; RMSE = 0.8926390\n",
      "Weights - 0.83 : 0.17 ; RMSE = 0.8935278\n",
      "Weights - 0.84 : 0.16 ; RMSE = 0.8944276\n",
      "Weights - 0.85 : 0.15 ; RMSE = 0.8953385\n",
      "Weights - 0.86 : 0.14 ; RMSE = 0.8962603\n",
      "Weights - 0.87 : 0.13 ; RMSE = 0.8971930\n",
      "Weights - 0.88 : 0.12 ; RMSE = 0.8981367\n",
      "Weights - 0.89 : 0.11 ; RMSE = 0.8990912\n",
      "Weights - 0.90 : 0.10 ; RMSE = 0.9000566\n",
      "Weights - 0.91 : 0.09 ; RMSE = 0.9010327\n",
      "Weights - 0.92 : 0.08 ; RMSE = 0.9020196\n",
      "Weights - 0.93 : 0.07 ; RMSE = 0.9030173\n",
      "Weights - 0.94 : 0.06 ; RMSE = 0.9040256\n",
      "Weights - 0.95 : 0.05 ; RMSE = 0.9050446\n",
      "Weights - 0.96 : 0.04 ; RMSE = 0.9060742\n",
      "Weights - 0.97 : 0.03 ; RMSE = 0.9071144\n",
      "Weights - 0.98 : 0.02 ; RMSE = 0.9081652\n",
      "Weights - 0.99 : 0.01 ; RMSE = 0.9092264\n"
     ]
    }
   ],
   "source": [
    "for i in np.arange(0,1,0.01):\n",
    "    weight = [i, 1-i]\n",
    "    predictions = predictions0*weight[0] + predictions1*weight[1]\n",
    "    print(f'Weights - {weight[0]:.2f} : {weight[1]:.2f} ; RMSE = {RMSE(ratings_test.iloc[:,2],predictions):.7f}')"
   ]
  },
  {
   "cell_type": "code",
   "execution_count": null,
   "metadata": {},
   "outputs": [],
   "source": []
  }
 ],
 "metadata": {
  "kernelspec": {
   "display_name": "Python 3",
   "language": "python",
   "name": "python3"
  },
  "language_info": {
   "codemirror_mode": {
    "name": "ipython",
    "version": 3
   },
   "file_extension": ".py",
   "mimetype": "text/x-python",
   "name": "python",
   "nbconvert_exporter": "python",
   "pygments_lexer": "ipython3",
   "version": "3.7.4"
  }
 },
 "nbformat": 4,
 "nbformat_minor": 4
}
