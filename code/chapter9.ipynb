{
 "cells": [
  {
   "cell_type": "markdown",
   "metadata": {},
   "source": [
    "# 9. 추천 시스템 구축에서의 이슈\n",
    "\n",
    "## 9.1 신규 사용자와 아이템(cold start problem)\n",
    " - 사용자\n",
    "  - 추천을 위한 충분한 데이터 없을 시 -> 모든 사용자에게 인기 있는 제품 추천\n",
    "  - 이후 충분히 확보되면 CF 적용\n",
    " - 아이템\n",
    "  - 신규 아이템의 경우, 추천에 포함되기가 더 힘듬 -> 시간이 지나 데이터가 쌓이면 자연스럽게 해결\n",
    "  - 신규 아이템을 임의로 넣어서 사용자의 클릭과 평가를 유도하는 방법 사용\n",
    "     - 이 경우 사용자가 신선한 아이템 볼 수 있어 만족도 올라갈 수 있음\n",
    "     \n",
    "## 9.2 확장성\n",
    " - 추천시스템의 데이터의 양이 굉장히 큼 -> spark와 같은 병렬처리 활용\n",
    " - 미리 계산을 해놓고 들어오면 추천\n",
    " - 계산이 간단한 알고리즘 활용(Item Based > User Based)\n",
    " \n",
    "## 9.3 추천의 활용\n",
    " - 고객 검색 활용 시, 검색 결과를 예상 선호도로 정렬해서 보여줌\n",
    " - 사용자가 관심을 가질만한 광고를 추천 알고리즘을 통해 제공\n",
    " \n",
    "## 9.4 이진수 데이터의 사용\n",
    " - CF에서의 유사도 : Cosine -> Jaccard로 변경하여 사용\n",
    " - DL의 경우 activation function 변경 및 layer 변경\n",
    " \n",
    "## 9.5 사용자의 간접 평가 데이터(Indirect evaluation data) 확보\n",
    " - 간접 데이터 : 사용자의 행동에서 유추할 수 있는 사용자의 암묵적인 선호 데이터\n",
    "    - 영화 평점을 등록하지 않는 것이 보통이므로 간접 데이터 확보 필요\n",
    "    - ex) 로그 데이터(어떤 페이지에 몇 번 방문했고 등등)"
   ]
  },
  {
   "cell_type": "code",
   "execution_count": null,
   "metadata": {},
   "outputs": [],
   "source": []
  }
 ],
 "metadata": {
  "kernelspec": {
   "display_name": "Python 3",
   "language": "python",
   "name": "python3"
  },
  "language_info": {
   "codemirror_mode": {
    "name": "ipython",
    "version": 3
   },
   "file_extension": ".py",
   "mimetype": "text/x-python",
   "name": "python",
   "nbconvert_exporter": "python",
   "pygments_lexer": "ipython3",
   "version": "3.7.4"
  }
 },
 "nbformat": 4,
 "nbformat_minor": 4
}
