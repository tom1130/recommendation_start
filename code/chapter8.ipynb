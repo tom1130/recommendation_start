{
 "cells": [
  {
   "cell_type": "markdown",
   "metadata": {},
   "source": [
    "# 8.대규모 데이터의 처리를 위한 Sparse Matrix 사용\n",
    " - 데이터의 양이 커지면 메모리의 한계가 있음\n",
    " - 메모리가 괜찮더라고 대부분의 원소가 비어있는 매트릭스 전체를 저장해서 처리하는 것은 비효율적이다"
   ]
  },
  {
   "cell_type": "markdown",
   "metadata": {},
   "source": [
    "## 8.1 Sparse matrix의 개념과 Python에서의 사용\n",
    " - sparse matrix - 설명 생략 , 데이터가 희박할수록 사용하기 좋음\n",
    "   - 단점 : data를 저장하거나 읽을 때마다 데이터 존재 유뮤 확인을 통한 처리를 해야하기 때문에 overhead cost가 많이 듬\n",
    "   - 종류\n",
    "     1. csc_matrix : compressed sparse column format - efficient column slicing\n",
    "     2. csr_matrix : compressed sparse row format - efficient row slicing\n",
    "     3. bsr_matrix : block sparse row format\n",
    "     4. lil_matrix : list of lists format\n",
    "     5. dok_matrix : dictionary of keys format\n",
    "     6. coo_matrix : coordinate format\n",
    "     7. dia_matrix : diagonal format"
   ]
  },
  {
   "cell_type": "code",
   "execution_count": 1,
   "metadata": {},
   "outputs": [],
   "source": [
    "import numpy as np\n",
    "import pandas as pd\n",
    "from scipy.sparse import csr_matrix\n",
    "\n",
    "from utility import *\n",
    "from sklearn.utils import shuffle"
   ]
  },
  {
   "cell_type": "code",
   "execution_count": 2,
   "metadata": {},
   "outputs": [],
   "source": [
    "ratings = {'user_id' : [1,2,4],\n",
    "           'movie_id' : [2,3,7],\n",
    "           'rating' : [4,3,1]\n",
    "          }\n",
    "ratings = pd.DataFrame(ratings)"
   ]
  },
  {
   "cell_type": "code",
   "execution_count": 3,
   "metadata": {},
   "outputs": [
    {
     "name": "stdout",
     "output_type": "stream",
     "text": [
      "[[4. 0. 0.]\n",
      " [0. 3. 0.]\n",
      " [0. 0. 1.]]\n"
     ]
    }
   ],
   "source": [
    "# pandas pivot을 통해 full matrix로 변경\n",
    "rating_matrix = ratings.pivot(index='user_id', columns='movie_id', values='rating').fillna(0)\n",
    "full_matrix1 = np.array(rating_matrix)\n",
    "print(full_matrix1)"
   ]
  },
  {
   "cell_type": "code",
   "execution_count": 4,
   "metadata": {},
   "outputs": [
    {
     "name": "stdout",
     "output_type": "stream",
     "text": [
      "  (1, 2)\t4\n",
      "  (2, 3)\t3\n",
      "  (4, 7)\t1\n",
      "[[0 0 0 0 0 0 0 0]\n",
      " [0 0 4 0 0 0 0 0]\n",
      " [0 0 0 3 0 0 0 0]\n",
      " [0 0 0 0 0 0 0 0]\n",
      " [0 0 0 0 0 0 0 1]]\n"
     ]
    }
   ],
   "source": [
    "# sparse matrix를 통해 full matrix로 변경\n",
    "data = np.array(ratings['rating'])\n",
    "row_indices = np.array(ratings['user_id'])\n",
    "col_indices = np.array(ratings['movie_id'])\n",
    "rating_matrix = csr_matrix((data,(row_indices, col_indices)),dtype=int)\n",
    "print(rating_matrix)\n",
    "\n",
    "full_matrix2 = rating_matrix.toarray()\n",
    "print(full_matrix2)"
   ]
  },
  {
   "cell_type": "code",
   "execution_count": 5,
   "metadata": {},
   "outputs": [
    {
     "name": "stdout",
     "output_type": "stream",
     "text": [
      "  (1, 2)\t8\n",
      "  (2, 3)\t6\n",
      "  (4, 7)\t2\n",
      "  (2, 1)\t4\n",
      "  (3, 2)\t3\n",
      "  (7, 4)\t1\n",
      "  (1, 1)\t16\n",
      "  (2, 2)\t9\n",
      "  (4, 4)\t1\n"
     ]
    }
   ],
   "source": [
    "#sparse matrix 게산\n",
    "print(rating_matrix * 2)\n",
    "print(rating_matrix.T)\n",
    "print(rating_matrix.dot(rating_matrix.T))"
   ]
  },
  {
   "cell_type": "markdown",
   "metadata": {},
   "source": [
    "## 8.2 Sparse Matrix를 추천 알고리즘에 적용하기"
   ]
  },
  {
   "cell_type": "code",
   "execution_count": 6,
   "metadata": {},
   "outputs": [],
   "source": [
    "_, _, ratings = getData()\n",
    "\n",
    "ratings.reset_index(inplace=True)\n",
    "ratings.drop('timestamp',axis=1, inplace=True)\n",
    "\n",
    "TRAIN_SIZE = 0.75\n",
    "ratings = shuffle(ratings, random_state=1)\n",
    "cutoff = int(TRAIN_SIZE * len(ratings))\n",
    "ratings_train = ratings.iloc[:cutoff]\n",
    "ratings_test = ratings.iloc[cutoff:]\n",
    "\n",
    "data = np.array(ratings['rating'])\n",
    "row_indices = np.array(ratings['user_id'])\n",
    "col_indices = np.array(ratings['movie_id'])\n",
    "\n",
    "ratings = csr_matrix((data,(row_indices, col_indices)), dtype=int)"
   ]
  },
  {
   "cell_type": "code",
   "execution_count": 7,
   "metadata": {},
   "outputs": [],
   "source": [
    "# MF class\n",
    "class MF:\n",
    "    def __init__(self, ratings, K, alpha, beta, iterations, verbose = True):\n",
    "        self.R = ratings\n",
    "        self.K = K\n",
    "        self.num_users, self.num_items = self.R.shape\n",
    "        self.alpha = alpha\n",
    "        self.beta = beta\n",
    "        self.iterations = iterations\n",
    "        self.verbose = verbose\n",
    "    \n",
    "    # RMSE 계산\n",
    "    def rmse(self):\n",
    "        xs, ys = self.R.nonzero() # 0이 아닌 인덱스 리턴\n",
    "        self.predictions = []\n",
    "        self.errors = []\n",
    "        for x,y in zip(xs, ys):\n",
    "            prediction = self.get_prediction(x,y)\n",
    "            self.predictions.append(prediction)\n",
    "            self.errors.append(self.R[x,y] - prediction)\n",
    "        self.predictions = np.array(self.predictions)\n",
    "        self.errors = np.array(self.errors)\n",
    "        return np.sqrt(np.mean(self.errors**2))\n",
    "    \n",
    "    def train(self):\n",
    "        # P행렬과 Q행렬 초기화\n",
    "        self.P = np.random.normal(scale=1./self.K, size=(self.num_users, self.K)) # (num_users, K)\n",
    "        self.Q = np.random.normal(scale=1./self.K, size=(self.num_items, self.K)) # (num_items, K)\n",
    "        self.b_u = np.zeros(self.num_users) # (num_users,)\n",
    "        self.b_d = np.zeros(self.num_items) # (num_items,)\n",
    "        self.b = np.mean(self.R[self.R.nonzero()]) # 전체 평균\n",
    "        rows, columns = self.R.nonzero()\n",
    "        self.samples = [(i,j,self.R[i,j]) for i,j in zip(rows,columns)]\n",
    "        \n",
    "        training_process = []\n",
    "        for i in range(self.iterations):\n",
    "            np.random.shuffle(self.samples)\n",
    "            self.sgd()\n",
    "            rmse = self.rmse()\n",
    "            training_process.append((i+1,rmse))\n",
    "            if self.verbose:\n",
    "                if (i+1)%10 ==0:\n",
    "                    print(f'iteration : {i+1} ; Train RMSE = {rmse}')\n",
    "        return training_process\n",
    "    \n",
    "    # 예측값 계산\n",
    "    def get_prediction(self, i, j):\n",
    "        prediction = self.b + self.b_u[i] + self.b_d[j] + self.P[i,:].dot(self.Q[j,:].T)\n",
    "        return prediction\n",
    "    \n",
    "    # stochastic gradient descent \n",
    "    def sgd(self):\n",
    "        for i, j, r in self.samples:\n",
    "            prediction = self.get_prediction(i,j)\n",
    "            e = r-prediction\n",
    "            \n",
    "            self.b_u[i] += self.alpha*(e - self.beta*self.b_u[i])\n",
    "            self.b_d[j] += self.alpha*(e - self.beta*self.b_d[j])\n",
    "            \n",
    "            self.P[i,:] += self.alpha*(e*self.Q[j,:] - self.beta*self.P[i,:])\n",
    "            self.Q[j,:] += self.alpha*(e*self.P[i,:] - self.beta*self.Q[j,:])\n",
    "            \n",
    "    # test set 선정\n",
    "    def set_test(self, ratings_test):\n",
    "        test_set = []\n",
    "        for i in range(len(ratings_test)):\n",
    "            x, y, z = ratings_test.iloc[i]\n",
    "            test_set.append([x,y,z])\n",
    "            self.R[x,y] = 0\n",
    "        self.test_set = test_set\n",
    "        return test_set\n",
    "    \n",
    "    def test_rmse(self):\n",
    "        error = 0\n",
    "        for one_set in self.test_set:\n",
    "            predicted = self.get_prediction(one_set[0],one_set[1])\n",
    "            error += pow(one_set[2] - predicted, 2)\n",
    "        return np.sqrt(error/len(self.test_set))\n",
    "    \n",
    "    def test(self):\n",
    "        self.P = np.random.normal(scale=1./self.K, size=(self.num_users, self.K)) # (num_users, K)\n",
    "        self.Q = np.random.normal(scale=1./self.K, size=(self.num_items, self.K)) # (num_items, K)\n",
    "        self.b_u = np.zeros(self.num_users) # (num_users,)\n",
    "        self.b_d = np.zeros(self.num_items) # (num_items,)\n",
    "        self.b = np.mean(self.R[self.R.nonzero()]) # 전체 평균\n",
    "        \n",
    "        rows, columns = self.R.nonzero()\n",
    "        self.samples = [(i,j,self.R[i,j]) for i,j in zip(rows,columns)]\n",
    "        \n",
    "        training_process = []\n",
    "        for i in range(self.iterations):\n",
    "            np.random.shuffle(self.samples)\n",
    "            self.sgd()\n",
    "            rmse = self.rmse()\n",
    "            rmse_test = self.test_rmse()\n",
    "            training_process.append((i+1,rmse,rmse_test))\n",
    "            if self.verbose:\n",
    "                if (i+1)%10 ==0:\n",
    "                    print(f'iteration : {i+1} ; Train RMSE = {rmse} ; Test RMSE = {rmse_test:.4f}')\n",
    "        return training_process\n",
    "    \n",
    "    def get_one_prediction(self, user_id, item_id):\n",
    "        return self.get_prediction(user_id, item_id)"
   ]
  },
  {
   "cell_type": "code",
   "execution_count": 9,
   "metadata": {},
   "outputs": [
    {
     "name": "stdout",
     "output_type": "stream",
     "text": [
      "iteration : 10 ; Train RMSE = 0.9664009442861345 ; Test RMSE = 0.9834\n",
      "iteration : 20 ; Train RMSE = 0.9419612621130171 ; Test RMSE = 0.9644\n",
      "iteration : 30 ; Train RMSE = 0.9313176202679793 ; Test RMSE = 0.9566\n",
      "iteration : 40 ; Train RMSE = 0.9252744867350418 ; Test RMSE = 0.9524\n",
      "iteration : 50 ; Train RMSE = 0.9213810641088099 ; Test RMSE = 0.9498\n",
      "iteration : 60 ; Train RMSE = 0.9186405099032052 ; Test RMSE = 0.9480\n",
      "iteration : 70 ; Train RMSE = 0.9165406101485817 ; Test RMSE = 0.9468\n",
      "iteration : 80 ; Train RMSE = 0.9147671241622809 ; Test RMSE = 0.9459\n",
      "iteration : 90 ; Train RMSE = 0.9130804755106557 ; Test RMSE = 0.9451\n",
      "iteration : 100 ; Train RMSE = 0.9112540523029912 ; Test RMSE = 0.9444\n"
     ]
    }
   ],
   "source": [
    "R_temp = ratings.copy()\n",
    "mf = MF(R_temp, 200, 0.001, 0.02, 100, True)\n",
    "test_set = mf.set_test(ratings_test)\n",
    "result = mf.test()"
   ]
  },
  {
   "cell_type": "code",
   "execution_count": null,
   "metadata": {},
   "outputs": [],
   "source": []
  }
 ],
 "metadata": {
  "kernelspec": {
   "display_name": "Python 3",
   "language": "python",
   "name": "python3"
  },
  "language_info": {
   "codemirror_mode": {
    "name": "ipython",
    "version": 3
   },
   "file_extension": ".py",
   "mimetype": "text/x-python",
   "name": "python",
   "nbconvert_exporter": "python",
   "pygments_lexer": "ipython3",
   "version": "3.7.4"
  }
 },
 "nbformat": 4,
 "nbformat_minor": 4
}
